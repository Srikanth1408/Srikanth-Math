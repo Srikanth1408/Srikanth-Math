{
  "nbformat": 4,
  "nbformat_minor": 0,
  "metadata": {
    "colab": {
      "name": "Basics of Programming.ipynb",
      "provenance": [],
      "collapsed_sections": [],
      "authorship_tag": "ABX9TyN0Epf7yNovQECzqdRA68RT",
      "include_colab_link": true
    },
    "kernelspec": {
      "name": "python3",
      "display_name": "Python 3"
    },
    "language_info": {
      "name": "python"
    }
  },
  "cells": [
    {
      "cell_type": "markdown",
      "metadata": {
        "id": "view-in-github",
        "colab_type": "text"
      },
      "source": [
        "<a href=\"https://colab.research.google.com/github/Dynamo1408/Srikanth-Math/blob/main/Basics_of_Programming.ipynb\" target=\"_parent\"><img src=\"https://colab.research.google.com/assets/colab-badge.svg\" alt=\"Open In Colab\"/></a>"
      ]
    },
    {
      "cell_type": "code",
      "metadata": {
        "id": "rMTvP3UywnG8",
        "colab": {
          "base_uri": "https://localhost:8080/",
          "height": 35
        },
        "outputId": "99738584-d422-452b-9eb9-7f2f21c3cf55"
      },
      "source": [
        "import numpy as np\n",
        "\n",
        "\n",
        "def Rhombus_check(a):\n",
        "  z=a\n",
        "  d1=np.sqrt(pow((z[0][0]-z[2][0]),2)+pow((z[0][1]-z[2][1]),2))\n",
        "  d2=np.sqrt(pow((z[1][0]-z[3][0]),2)+pow((z[1][1]-z[3][1]),2))\n",
        "  sd1=((z[2][1]-z[0][1]))/((z[2][0]-z[0][0]))\n",
        "  sd2=((z[3][1]-z[1][1]))/((z[3][0]-z[1][0]))\n",
        "  if (sd1*sd2==-1)and (d1==d2):\n",
        "    return \"Given figure is Rhombus\"\n",
        "Rhombus_check(np.array([[1,1],[1,-1],[-1,-1],[-1,1]]))\n"
      ],
      "execution_count": null,
      "outputs": [
        {
          "output_type": "execute_result",
          "data": {
            "application/vnd.google.colaboratory.intrinsic+json": {
              "type": "string"
            },
            "text/plain": [
              "'Given figure is Rhombus'"
            ]
          },
          "metadata": {},
          "execution_count": 10
        }
      ]
    },
    {
      "cell_type": "code",
      "metadata": {
        "id": "IuSSQWBDJh-B"
      },
      "source": [
        ""
      ],
      "execution_count": null,
      "outputs": []
    }
  ]
}